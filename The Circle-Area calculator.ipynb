{
 "cells": [
  {
   "cell_type": "markdown",
   "metadata": {},
   "source": [
    "# This Script will calculate AND print the area of your circle, no matter its size!"
   ]
  },
  {
   "cell_type": "code",
   "execution_count": 2,
   "metadata": {},
   "outputs": [
    {
     "name": "stdout",
     "output_type": "stream",
     "text": [
      "Your 4.0 Units in Radius  big circle is 50.265 Units large, and its circumference is 25.133 Units, Congrats!\n"
     ]
    }
   ],
   "source": [
    "\n",
    "# This is for python to understand what I mean with pi\n",
    "import math\n",
    "\n",
    "# Here I tell the script that \"radius\" is a float input, which we get by asking the user\n",
    "radius = float(input(\"What is the radius of your choice?\"))\n",
    "\n",
    "# Calculate the area and the circumference of the circle\n",
    "area = math.pi * (radius ** 2)\n",
    "circumference = 2 * math.pi * radius\n",
    "\n",
    "# Print the result\n",
    "print(f\"Your {radius} Units in Radius  big circle is {area:.3f} Units large, and its circumference is {circumference:.3f} Units, Congrats!\")\n",
    "\n"
   ]
  }
 ],
 "metadata": {
  "kernelspec": {
   "display_name": "pew",
   "language": "python",
   "name": "python3"
  },
  "language_info": {
   "codemirror_mode": {
    "name": "ipython",
    "version": 3
   },
   "file_extension": ".py",
   "mimetype": "text/x-python",
   "name": "python",
   "nbconvert_exporter": "python",
   "pygments_lexer": "ipython3",
   "version": "3.11.5"
  }
 },
 "nbformat": 4,
 "nbformat_minor": 2
}
