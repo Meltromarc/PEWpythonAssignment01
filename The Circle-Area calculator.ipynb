{
 "cells": [
  {
   "cell_type": "markdown",
   "metadata": {},
   "source": [
    "# This Script will calculate AND print the area of your circle, no matter its size!"
   ]
  },
  {
   "cell_type": "code",
   "execution_count": 8,
   "metadata": {},
   "outputs": [
    {
     "name": "stdout",
     "output_type": "stream",
     "text": [
      "Your 2.0 Units big circle is 12.57 Units large\n"
     ]
    }
   ],
   "source": [
    "# This is for python to understand what we mean with pi\n",
    "import math\n",
    "\n",
    "# Input the radius of the circle\n",
    "radius = float(input(\"What is the radius of your choice?\"))\n",
    "\n",
    "# Calculate the area of the circle\n",
    "area = math.pi * (radius ** 2)\n",
    "\n",
    "# Print the result\n",
    "print(f\"Your {radius} Units big circle is {area:.2f} Units large, Congrats!\")\n"
   ]
  }
 ],
 "metadata": {
  "kernelspec": {
   "display_name": "pew",
   "language": "python",
   "name": "python3"
  },
  "language_info": {
   "codemirror_mode": {
    "name": "ipython",
    "version": 3
   },
   "file_extension": ".py",
   "mimetype": "text/x-python",
   "name": "python",
   "nbconvert_exporter": "python",
   "pygments_lexer": "ipython3",
   "version": "3.11.5"
  }
 },
 "nbformat": 4,
 "nbformat_minor": 2
}
